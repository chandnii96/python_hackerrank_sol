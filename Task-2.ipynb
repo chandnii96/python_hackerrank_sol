{
 "cells": [
  {
   "cell_type": "code",
   "execution_count": 1,
   "id": "2d36521f",
   "metadata": {},
   "outputs": [
    {
     "name": "stdout",
     "output_type": "stream",
     "text": [
      "1 \n",
      "1\n",
      "1\n",
      "2\n",
      "[[0, 0, 0], [0, 0, 1], [0, 1, 0], [1, 0, 0], [1, 1, 1]]\n"
     ]
    }
   ],
   "source": [
    "#Ques-1 List Comprehension\n",
    "if __name__ == '__main__':\n",
    "    x = int(input())\n",
    "    y = int(input())\n",
    "    z = int(input())\n",
    "    n = int(input())\n",
    "    a=[]\n",
    "    for i in range(x+1):\n",
    "        for j in range(y+1):\n",
    "            for k in range(z+1):\n",
    "                if (i+j+k==n):\n",
    "                    continue\n",
    "                a.append([i,j,k])\n",
    "                \n",
    "    print(a)\n"
   ]
  },
  {
   "cell_type": "code",
   "execution_count": null,
   "id": "d0a9ae11",
   "metadata": {},
   "outputs": [],
   "source": [
    "#Ques 2- Find the first runner-up\n",
    "if __name__ == '__main__':\n",
    "    n = int(input())\n",
    "    arr = map(int, input().split())\n",
    "    print(sorted(list(set(arr)))[-2])"
   ]
  },
  {
   "cell_type": "code",
   "execution_count": null,
   "id": "8965bf23",
   "metadata": {},
   "outputs": [],
   "source": [
    "#Ques 3- nested lists\n",
    "if __name__ == '__main__':\n",
    "    n=int(input())\n",
    "    lst=[]\n",
    "    s=[]\n",
    "    for i in range(n):\n",
    "        name = input()\n",
    "        score = float(input())\n",
    "        lst.append([name,score])\n",
    "        s.append(score)\n",
    "    \n",
    "    s.sort()\n",
    "    \n",
    "    second_min = 0\n",
    "    minimum = s[0]\n",
    "    lst.sort()\n",
    "    for i in s:\n",
    "        if i != minimum:\n",
    "            second_min = i\n",
    "            break\n",
    "    \n",
    "    for i in lst:\n",
    "        if i[1] == second_min:\n",
    "\n",
    "            print(i[0])\n",
    "        "
   ]
  },
  {
   "cell_type": "code",
   "execution_count": null,
   "id": "61683a69",
   "metadata": {},
   "outputs": [],
   "source": [
    "#Ques 4- finding the percentage\n",
    "if __name__ == '__main__':\n",
    "    n = int(input())\n",
    "    student_marks = {}\n",
    "    for _ in range(n):\n",
    "        name, *line = input().split()\n",
    "        scores = list(map(float, line))\n",
    "        student_marks[name] = scores\n",
    "    query_name = input()\n",
    "    \n",
    "    \n",
    "    if query_name in student_marks:\n",
    "        x = ((float(student_marks[query_name][0]) +\n",
    "         float(student_marks[query_name][1]) + \n",
    "         float(student_marks[query_name][2])) / 3)\n",
    "    \n",
    "    print('%.2f' % x)"
   ]
  },
  {
   "cell_type": "code",
   "execution_count": null,
   "id": "e9306b1e",
   "metadata": {},
   "outputs": [],
   "source": [
    "#Ques 5- lists\n",
    "if __name__ == '__main__':\n",
    "    N = int(input())\n",
    "    L = []\n",
    "for i in range(N):\n",
    "    line = input().split()\n",
    "    choice = line[0]\n",
    "    if choice == 'append':\n",
    "        L.append(int(line[1]))\n",
    "    elif choice == 'insert':\n",
    "        L.insert(int(line[1]), int(line[2]))\n",
    "    elif choice == 'remove':\n",
    "        L.remove(int(line[1]))\n",
    "    elif choice == 'print':\n",
    "        print(L)\n",
    "    elif choice == 'sort':\n",
    "        L.sort()\n",
    "    elif choice == 'pop':\n",
    "        L.pop()\n",
    "    elif choice == 'reverse':\n",
    "        L.reverse()\n",
    "    elif choice == 'count':\n",
    "        L.count(int(line[1]))"
   ]
  },
  {
   "cell_type": "code",
   "execution_count": null,
   "id": "7e4df3cc",
   "metadata": {},
   "outputs": [],
   "source": [
    "#ques 6- tuple\n",
    "n=int(input())\n",
    "i=map(int,input().split())\n",
    "t=()\n",
    "for x in i:\n",
    "        t+=(x,)\n",
    "print(hash(t))\n"
   ]
  },
  {
   "cell_type": "code",
   "execution_count": null,
   "id": "1df6d320",
   "metadata": {},
   "outputs": [],
   "source": [
    "#ques 7- introduction to set\n",
    "def average(array):\n",
    "    # your code goes here\n",
    "    return sum(set(arr))/len(set(arr))\n",
    "    \n",
    "    \n",
    "if __name__ == '__main__':\n",
    "    n = int(input())\n",
    "    arr = list(map(int, input().split()))\n",
    "    result = average(arr)\n",
    "    print(result)"
   ]
  },
  {
   "cell_type": "code",
   "execution_count": null,
   "id": "86c552b8",
   "metadata": {},
   "outputs": [],
   "source": [
    "#Ques 8- no idea\n",
    "n, m = input().split()\n",
    "arr = input().split()\n",
    "A = set(input().split())\n",
    "B = set(input().split())\n",
    "print(sum([(i in A) - (i in B) for i in arr]))"
   ]
  },
  {
   "cell_type": "code",
   "execution_count": null,
   "id": "283c5a81",
   "metadata": {},
   "outputs": [],
   "source": [
    "#9- symmetric difference\n",
    "input()\n",
    "m = set(map(int,input().split()))\n",
    "input()\n",
    "n = set(map(int,input().split()))\n",
    "print(*sorted(m^n), sep=\"\\n\")"
   ]
  },
  {
   "cell_type": "code",
   "execution_count": null,
   "id": "8fde7fbd",
   "metadata": {},
   "outputs": [],
   "source": [
    "#Ques 10-\n",
    "a = set()\n",
    "[a.add(input()) for i in range(int(input()))]\n",
    "print(len(a))"
   ]
  },
  {
   "cell_type": "code",
   "execution_count": null,
   "id": "30f0574c",
   "metadata": {},
   "outputs": [],
   "source": [
    "#Ques 11-\n",
    "n = int(input())\n",
    "s = set(map(int, input().split()))\n",
    "for i in range(int(input())):\n",
    "    s1= input().split()\n",
    "    if s1[0] == 'pop':\n",
    "        s.pop()\n",
    "    elif s1[0] == 'remove':\n",
    "        s.remove(int(s1[1]))\n",
    "    elif s1[0] == 'discard':\n",
    "        s.discard(int(s1[1]))\n",
    "        \n",
    "print(sum(s))\n"
   ]
  },
  {
   "cell_type": "code",
   "execution_count": null,
   "id": "ff5bb57d",
   "metadata": {},
   "outputs": [],
   "source": [
    "#Ques 12- \n",
    "input()\n",
    "m = set(map(int,input().split()))\n",
    "input()\n",
    "n = set(map(int,input().split()))\n",
    "print(len(m.union(n)))\n"
   ]
  },
  {
   "cell_type": "code",
   "execution_count": null,
   "id": "ce333aec",
   "metadata": {},
   "outputs": [],
   "source": [
    "#Ques 13-\n",
    "input()\n",
    "m = set(map(int,input().split()))\n",
    "input()\n",
    "n = set(map(int,input().split()))\n",
    "print(len(m.intersection(n)))\n"
   ]
  },
  {
   "cell_type": "code",
   "execution_count": null,
   "id": "bb97897b",
   "metadata": {},
   "outputs": [],
   "source": [
    "#Ques 14-\n",
    "input()\n",
    "m = set(map(int,input().split()))\n",
    "input()\n",
    "n = set(map(int,input().split()))\n",
    "print(len(m.difference(n)))\n",
    "\n",
    "\n"
   ]
  },
  {
   "cell_type": "code",
   "execution_count": null,
   "id": "4436da88",
   "metadata": {},
   "outputs": [],
   "source": [
    "#ques 15-\n",
    "input()\n",
    "m = set(map(int,input().split()))\n",
    "input()\n",
    "n = set(map(int,input().split()))\n",
    "print(len(m.symmetric_difference(n)))\n"
   ]
  },
  {
   "cell_type": "code",
   "execution_count": null,
   "id": "588f68d6",
   "metadata": {},
   "outputs": [],
   "source": [
    "#ques 16\n",
    "n = int(input())\n",
    "s = set(map(int, input().split()))\n",
    "for i in range(int(input())):\n",
    "    operation = input().split()\n",
    "    new_set = set(map(int, input().split()))\n",
    "    eval('s.{}({})'.format(operation[0], new_set))\n",
    "\n",
    "print(sum(s))\n",
    "        "
   ]
  },
  {
   "cell_type": "code",
   "execution_count": null,
   "id": "fde4f3ea",
   "metadata": {},
   "outputs": [],
   "source": [
    "#ques 17\n",
    "n = input()\n",
    "room_num = input().split()\n",
    "room_set= set(room_num)\n",
    "for i in list(room_set):\n",
    "    room_num.remove(i)\n",
    "CAPTAIN_ROOM_NUM = room_set.difference(set(room_num)).pop()\n",
    "print(CAPTAIN_ROOM_NUM)"
   ]
  },
  {
   "cell_type": "code",
   "execution_count": null,
   "id": "6a1977ca",
   "metadata": {},
   "outputs": [],
   "source": [
    "#Ques 18\n",
    "for i in range(int(input())):\n",
    "    n=int(input())\n",
    "    s=set(map(int,input().split()))\n",
    "    n1=int(input())\n",
    "    s1=set(map(int,input().split()))\n",
    "\n",
    "    print(s.issubset(s1))  \n",
    "\n"
   ]
  },
  {
   "cell_type": "code",
   "execution_count": null,
   "id": "5bb6e6d7",
   "metadata": {},
   "outputs": [],
   "source": [
    "#ques 19\n",
    "s = set(input().split())\n",
    "n = int(input())\n",
    "output = True\n",
    "for i in range(n):\n",
    "    s1 = set(input().split())\n",
    "    if not s1.issubset(s):\n",
    "        output = False\n",
    "    if len(s1) >= len(s):\n",
    "        output = False\n",
    "print(output)\n",
    "\n"
   ]
  }
 ],
 "metadata": {
  "kernelspec": {
   "display_name": "Python 3 (ipykernel)",
   "language": "python",
   "name": "python3"
  },
  "language_info": {
   "codemirror_mode": {
    "name": "ipython",
    "version": 3
   },
   "file_extension": ".py",
   "mimetype": "text/x-python",
   "name": "python",
   "nbconvert_exporter": "python",
   "pygments_lexer": "ipython3",
   "version": "3.9.13"
  }
 },
 "nbformat": 4,
 "nbformat_minor": 5
}
