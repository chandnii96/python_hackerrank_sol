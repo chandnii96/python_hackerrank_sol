{
 "cells": [
  {
   "cell_type": "code",
   "execution_count": 1,
   "id": "225d3e5e",
   "metadata": {},
   "outputs": [
    {
     "name": "stdout",
     "output_type": "stream",
     "text": [
      "Chandni kUMARI - Data sCIENce iterN at INNOmatics ReseARCH lAB\n",
      "cHANDNI Kumari - dATA ScienCE ITERn AT innoMATICS rESEarch Lab\n"
     ]
    }
   ],
   "source": [
    "#Ques 1-swapcase\n",
    "def swap_case(s):\n",
    "    return s.swapcase()\n",
    "\n",
    "if __name__ == '__main__':\n",
    "    s = input()\n",
    "    result = swap_case(s)\n",
    "    print(result)"
   ]
  },
  {
   "cell_type": "code",
   "execution_count": 2,
   "id": "125d91f6",
   "metadata": {},
   "outputs": [
    {
     "name": "stdout",
     "output_type": "stream",
     "text": [
      "my name is chandni\n",
      "my-name-is-chandni\n"
     ]
    }
   ],
   "source": [
    "#Ques 2- split and join\n",
    "def split_and_join(line):\n",
    "    # write your code here\n",
    "    line= line.split(\" \")\n",
    "    return \"-\".join(line)\n",
    "\n",
    "if __name__ == '__main__':\n",
    "    line = input()\n",
    "    result = split_and_join(line)\n",
    "    print(result)"
   ]
  },
  {
   "cell_type": "code",
   "execution_count": 3,
   "id": "06228b53",
   "metadata": {},
   "outputs": [
    {
     "name": "stdout",
     "output_type": "stream",
     "text": [
      "Chandni\n",
      "Kumari\n",
      "Hello Chandni Kumari! You just delved into python.\n"
     ]
    }
   ],
   "source": [
    "#Ques 3- what;s your name\n",
    "# Complete the 'print_full_name' function below.\n",
    "#\n",
    "# The function is expected to return a STRING.\n",
    "# The function accepts following parameters:\n",
    "#  1. STRING first\n",
    "#  2. STRING last\n",
    "#\n",
    "\n",
    "def print_full_name(first, last):\n",
    "    # Write your code here\n",
    "     print(\"Hello {} {}! You just delved into python.\".format(first,last))\n",
    "if __name__ == '__main__':\n",
    "    first_name = input()\n",
    "    last_name = input()\n",
    "    print_full_name(first_name, last_name)"
   ]
  },
  {
   "cell_type": "code",
   "execution_count": 4,
   "id": "d49aa2d4",
   "metadata": {},
   "outputs": [
    {
     "name": "stdout",
     "output_type": "stream",
     "text": [
      "geeksforgeeks\n",
      "4 y\n",
      "geekyforgeeks\n"
     ]
    }
   ],
   "source": [
    "#Ques4- mutation string\n",
    "def mutate_string(string, position, character):\n",
    "    s_list= list(string)\n",
    "    s_list[position]= character\n",
    "    return ''.join(s_list)\n",
    "\n",
    "if __name__ == '__main__':\n",
    "    s = input()\n",
    "    i, c = input().split()\n",
    "    s_new = mutate_string(s, int(i), c)\n",
    "    print(s_new)"
   ]
  },
  {
   "cell_type": "code",
   "execution_count": 1,
   "id": "2a572ae7",
   "metadata": {},
   "outputs": [
    {
     "name": "stdout",
     "output_type": "stream",
     "text": [
      "abcbcbcb\n",
      "cb\n",
      "3\n"
     ]
    }
   ],
   "source": [
    "#Ques 5- find a string\n",
    "def count_substring(string, sub_string):\n",
    "    count=0\n",
    "    for i in range(len(string)-len(sub_string)+1):\n",
    "        if string[i:i+len(sub_string)]==sub_string:\n",
    "            count+=1\n",
    "    return count\n",
    "\n",
    "if __name__ == '__main__':\n",
    "    string = input().strip()\n",
    "    sub_string = input().strip()\n",
    "    \n",
    "    count = count_substring(string, sub_string)\n",
    "    print(count)"
   ]
  },
  {
   "cell_type": "code",
   "execution_count": 2,
   "id": "ed21c33e",
   "metadata": {},
   "outputs": [
    {
     "name": "stdout",
     "output_type": "stream",
     "text": [
      "Da6h7\n",
      "True\n",
      "True\n",
      "True\n",
      "True\n",
      "True\n"
     ]
    }
   ],
   "source": [
    "#Ques 6- string validators\n",
    "if __name__ == '__main__':\n",
    "    s = input()\n",
    "    print(any(i.isalnum() for i in s))\n",
    "    print(any(i.isalpha() for i in s))\n",
    "    print(any(i.isdigit() for i in s))\n",
    "    print(any(i.islower() for i in s))\n",
    "    print(any(i.isupper() for i in s))\n",
    "    "
   ]
  },
  {
   "cell_type": "code",
   "execution_count": 10,
   "id": "6f606f49",
   "metadata": {},
   "outputs": [
    {
     "name": "stdout",
     "output_type": "stream",
     "text": [
      "5\n",
      "    H    \n",
      "   HHH   \n",
      "  HHHHH  \n",
      " HHHHHHH \n",
      "HHHHHHHHH\n",
      "  HHHHH               HHHHH             \n",
      "  HHHHH               HHHHH             \n",
      "  HHHHH               HHHHH             \n",
      "  HHHHH               HHHHH             \n",
      "  HHHHH               HHHHH             \n",
      "  HHHHH               HHHHH             \n",
      "  HHHHHHHHHHHHHHHHHHHHHHHHH   \n",
      "  HHHHHHHHHHHHHHHHHHHHHHHHH   \n",
      "  HHHHHHHHHHHHHHHHHHHHHHHHH   \n",
      "  HHHHH               HHHHH             \n",
      "  HHHHH               HHHHH             \n",
      "  HHHHH               HHHHH             \n",
      "  HHHHH               HHHHH             \n",
      "  HHHHH               HHHHH             \n",
      "  HHHHH               HHHHH             \n",
      "                    HHHHHHHHH \n",
      "                     HHHHHHH  \n",
      "                      HHHHH   \n",
      "                       HHH    \n",
      "                        H     \n"
     ]
    }
   ],
   "source": [
    "#Ques 7- text alignment\n",
    "#Replace all ______ with rjust, ljust or center. \n",
    "\n",
    "thickness = int(input()) #This must be an odd number\n",
    "c = 'H'\n",
    "\n",
    "#Top Cone\n",
    "for i in range(thickness):\n",
    "    print((c*i).rjust(thickness-1)+c+(c*i).ljust(thickness-1))\n",
    "\n",
    "#Top Pillars\n",
    "for i in range(thickness+1):\n",
    "    print((c*thickness).center(thickness*2)+(c*thickness).center(thickness*6))\n",
    "\n",
    "#Middle Belt\n",
    "for i in range((thickness+1)//2):\n",
    "    print((c*thickness*5).center(thickness*6))    \n",
    "\n",
    "#Bottom Pillars\n",
    "for i in range(thickness+1):\n",
    "    print((c*thickness).center(thickness*2)+(c*thickness).center(thickness*6))    \n",
    "\n",
    "#Bottom Cone\n",
    "for i in range(thickness):\n",
    "    print(((c*(thickness-i-1)).rjust(thickness)+c+(c*(thickness-i-1)).ljust(thickness)).rjust(thickness*6))"
   ]
  },
  {
   "cell_type": "code",
   "execution_count": 11,
   "id": "b6a5072f",
   "metadata": {},
   "outputs": [
    {
     "name": "stdout",
     "output_type": "stream",
     "text": [
      "abcdefghijklmnopqrstuvwxyz\n",
      "4\n",
      "abcd\n",
      "efgh\n",
      "ijkl\n",
      "mnop\n",
      "qrst\n",
      "uvwx\n",
      "yz\n"
     ]
    }
   ],
   "source": [
    "#Ques 8-text wrap\n",
    "import textwrap\n",
    "\n",
    "def wrap(string, max_width):\n",
    "    w = textwrap.TextWrapper(width=max_width) \n",
    "    dedented_text = textwrap.dedent(text=string) \n",
    "    result = w.fill(text=dedented_text) \n",
    "    return result\n",
    "\n",
    "if __name__ == '__main__':\n",
    "    string, max_width = input(), int(input())\n",
    "    result = wrap(string, max_width)\n",
    "    print(result)"
   ]
  },
  {
   "cell_type": "code",
   "execution_count": 12,
   "id": "57ab54a9",
   "metadata": {},
   "outputs": [
    {
     "name": "stdout",
     "output_type": "stream",
     "text": [
      "9 27\n",
      "------------.|.------------\n",
      "---------.|..|..|.---------\n",
      "------.|..|..|..|..|.------\n",
      "---.|..|..|..|..|..|..|.---\n",
      "----------WELCOME----------\n",
      "---.|..|..|..|..|..|..|.---\n",
      "------.|..|..|..|..|.------\n",
      "---------.|..|..|.---------\n",
      "------------.|.------------\n"
     ]
    }
   ],
   "source": [
    "#Ques 9-Designer door mat\n",
    "n,m = map(int, input().split())\n",
    "for i in range(1, n, 2):\n",
    "    print((i * \".|.\").center(m,\"-\"))\n",
    "print(\"WELCOME\".center(m, \"-\"))\n",
    "for i in range(n-2, -1, -2):\n",
    "    print((i * \".|.\").center(m, \"-\"))"
   ]
  },
  {
   "cell_type": "code",
   "execution_count": 13,
   "id": "379854b2",
   "metadata": {},
   "outputs": [
    {
     "name": "stdout",
     "output_type": "stream",
     "text": [
      "2\n",
      "1 1 1 1\n",
      "2 2 2 10\n"
     ]
    }
   ],
   "source": [
    "#Ques 10-string formatting\n",
    "def print_formatted(number):\n",
    "    # your code goes here\n",
    " for i in range(1,n+1):\n",
    "        binlen = len(str(bin(n)))\n",
    "        octf = oct(i).split('o')\n",
    "        hexf = hex(i).split('x')\n",
    "        binf = bin(i).split('b')\n",
    "        print( i ,  octf[1] ,  hexf[1].upper() ,  binf[1] )\n",
    "        \n",
    "if __name__ == '__main__':\n",
    "    n = int(input())\n",
    "    print_formatted(n)"
   ]
  },
  {
   "cell_type": "code",
   "execution_count": 14,
   "id": "15671be8",
   "metadata": {},
   "outputs": [
    {
     "name": "stdout",
     "output_type": "stream",
     "text": [
      "3\n",
      "----c----\n",
      "--c-b-c--\n",
      "c-b-a-b-c\n",
      "--c-b-c--\n",
      "----c----\n"
     ]
    }
   ],
   "source": [
    "#Ques 11-alphabet rangoli\n",
    "def print_rangoli(size):\n",
    "    # your code goes here\n",
    "    import string\n",
    "    alpha = string.ascii_lowercase\n",
    "    L = []\n",
    "    for i in range(n):\n",
    "        s = \"-\".join(alpha[i:n])\n",
    "        L.append((s[::-1]+s[1:]).center(4*n-3, \"-\"))\n",
    "        \n",
    "    print('\\n'.join(L[:0:-1]+L))\n",
    "\n",
    "if __name__ == '__main__':\n",
    "    n = int(input())\n",
    "    print_rangoli(n)"
   ]
  },
  {
   "cell_type": "code",
   "execution_count": 21,
   "id": "22dc7f00",
   "metadata": {},
   "outputs": [
    {
     "name": "stdout",
     "output_type": "stream",
     "text": [
      "BANANA\n",
      "Stuart 12\n"
     ]
    }
   ],
   "source": [
    "#Ques 13- the minion game\n",
    "def minion_game(string):\n",
    "    # your code goes here\n",
    "    vowel = \"AEIOU\"\n",
    "    stuart = 0\n",
    "    kevin = 0\n",
    "    x = len(string)\n",
    "    for i in range(x):\n",
    "        if string[i] in vowel:\n",
    "            kevin += x - i\n",
    "        else:\n",
    "            stuart += x - i\n",
    "    if stuart > kevin:\n",
    "        print(\"Stuart\", str(stuart))\n",
    "    elif kevin > stuart:\n",
    "        print(\"Kevin\", str(kevin))\n",
    "    else :\n",
    "        print(\"Draw\")\n",
    "\n",
    "if __name__ == '__main__':\n",
    "    s = input()\n",
    "    minion_game(s)"
   ]
  },
  {
   "cell_type": "code",
   "execution_count": 22,
   "id": "eaac39a0",
   "metadata": {},
   "outputs": [
    {
     "name": "stdout",
     "output_type": "stream",
     "text": [
      "abavbshbvas\n",
      "3\n",
      "ab\n",
      "vbs\n",
      "hbv\n"
     ]
    }
   ],
   "source": [
    "#Ques 14- merge the tools\n",
    "def merge_the_tools(string, k):\n",
    "    # your code goes here\n",
    "    l = len(string)//k\n",
    "    for i in range(l):\n",
    "        print(''.join(dict.fromkeys(string[i*k:(i*k)+k])))\n",
    "\n",
    "\n",
    "if __name__ == '__main__':\n",
    "    string, k = input(), int(input())\n",
    "    merge_the_tools(string, k)"
   ]
  },
  {
   "cell_type": "code",
   "execution_count": null,
   "id": "9ce6905d",
   "metadata": {},
   "outputs": [],
   "source": []
  }
 ],
 "metadata": {
  "kernelspec": {
   "display_name": "Python 3 (ipykernel)",
   "language": "python",
   "name": "python3"
  },
  "language_info": {
   "codemirror_mode": {
    "name": "ipython",
    "version": 3
   },
   "file_extension": ".py",
   "mimetype": "text/x-python",
   "name": "python",
   "nbconvert_exporter": "python",
   "pygments_lexer": "ipython3",
   "version": "3.9.13"
  }
 },
 "nbformat": 4,
 "nbformat_minor": 5
}
