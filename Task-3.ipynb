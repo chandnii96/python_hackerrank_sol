{
 "cells": [
  {
   "cell_type": "code",
   "execution_count": 1,
   "id": "5ac00732",
   "metadata": {},
   "outputs": [
    {
     "name": "stdout",
     "output_type": "stream",
     "text": [
      "1+2j\n",
      "2.23606797749979\n",
      "1.1071487177940904\n"
     ]
    }
   ],
   "source": [
    "#Ques 1-\n",
    "import cmath\n",
    "n = input()\n",
    "print(abs(complex(n)))\n",
    "print(cmath.phase(complex(n)))"
   ]
  },
  {
   "cell_type": "code",
   "execution_count": 2,
   "id": "4fb5956a",
   "metadata": {},
   "outputs": [
    {
     "name": "stdout",
     "output_type": "stream",
     "text": [
      "10\n",
      "10\n",
      "45°\n"
     ]
    }
   ],
   "source": [
    "#Ques 2- find angle mbc\n",
    "import math\n",
    "ab= int(input())\n",
    "bc=int(input())\n",
    "ca= math.sqrt(ab**2+bc**2)\n",
    "theta=math.acos(bc/ca)\n",
    "print(str(round(math.degrees(theta))),'\\u00B0',sep='')\n"
   ]
  },
  {
   "cell_type": "code",
   "execution_count": 3,
   "id": "3fb2cc9a",
   "metadata": {},
   "outputs": [
    {
     "name": "stdout",
     "output_type": "stream",
     "text": [
      "6\n",
      "1\n",
      "121\n",
      "12321\n",
      "1234321\n",
      "123454321\n",
      "12345654321\n"
     ]
    }
   ],
   "source": [
    "# Ques 3-triangle quest 2\n",
    "for i in range(1,int(input())+1): #More than 2 lines will result in 0 score. Do not leave a blank line also\n",
    "    print(((10**i - 1)//9)**2)"
   ]
  },
  {
   "cell_type": "code",
   "execution_count": 4,
   "id": "50e259e1",
   "metadata": {},
   "outputs": [
    {
     "name": "stdout",
     "output_type": "stream",
     "text": [
      "177\n",
      "10\n",
      "17\n",
      "7\n",
      "(17, 7)\n"
     ]
    }
   ],
   "source": [
    "#Ques 4- mod divmod\n",
    "import __future__\n",
    "a= int(input())\n",
    "b= int(input())\n",
    "print(a//b)\n",
    "print(a%b)\n",
    "c=divmod(a,b)\n",
    "print(c)"
   ]
  },
  {
   "cell_type": "code",
   "execution_count": 5,
   "id": "ecfe348e",
   "metadata": {},
   "outputs": [
    {
     "name": "stdout",
     "output_type": "stream",
     "text": [
      "3\n",
      "5\n",
      "6\n",
      "243\n",
      "3\n"
     ]
    }
   ],
   "source": [
    "#Ques 5- power- mod power\n",
    "a=int(input())\n",
    "b=int(input())\n",
    "m=int(input())\n",
    "print(pow(a,b))\n",
    "print(pow(a,b,m))"
   ]
  },
  {
   "cell_type": "code",
   "execution_count": 6,
   "id": "bd929e38",
   "metadata": {},
   "outputs": [
    {
     "name": "stdout",
     "output_type": "stream",
     "text": [
      "9\n",
      "29\n",
      "7\n",
      "27\n",
      "4710194409608608369201743232\n"
     ]
    }
   ],
   "source": [
    "#Ques 6- integers come in all sizes\n",
    "a= int(input())\n",
    "b= int(input())\n",
    "c=int(input())\n",
    "d=int(input())\n",
    "print(a**b+c**d)"
   ]
  },
  {
   "cell_type": "code",
   "execution_count": 7,
   "id": "df9b1117",
   "metadata": {},
   "outputs": [
    {
     "name": "stdout",
     "output_type": "stream",
     "text": [
      "4\n",
      "1\n",
      "22\n",
      "333\n"
     ]
    }
   ],
   "source": [
    "#Ques 7- triangle quest\n",
    "for i in range(1,int(input())): #More than 2 lines will result in 0 score. Do not leave a blank line also\n",
    "    print((10**i)//9*i)"
   ]
  },
  {
   "cell_type": "code",
   "execution_count": null,
   "id": "ecb8a689",
   "metadata": {},
   "outputs": [],
   "source": []
  }
 ],
 "metadata": {
  "kernelspec": {
   "display_name": "Python 3 (ipykernel)",
   "language": "python",
   "name": "python3"
  },
  "language_info": {
   "codemirror_mode": {
    "name": "ipython",
    "version": 3
   },
   "file_extension": ".py",
   "mimetype": "text/x-python",
   "name": "python",
   "nbconvert_exporter": "python",
   "pygments_lexer": "ipython3",
   "version": "3.9.13"
  }
 },
 "nbformat": 4,
 "nbformat_minor": 5
}
