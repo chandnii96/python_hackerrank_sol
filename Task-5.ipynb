{
 "cells": [
  {
   "cell_type": "code",
   "execution_count": 1,
   "id": "3596520f",
   "metadata": {},
   "outputs": [
    {
     "name": "stdout",
     "output_type": "stream",
     "text": [
      "4\n",
      "5.000\n",
      "True\n",
      "5.0o0\n",
      "False\n",
      "+5.43\n",
      "True\n",
      "-664.34\n",
      "True\n"
     ]
    }
   ],
   "source": [
    "#Ques 1- detect floating number\n",
    "from re import match,compile\n",
    "\n",
    "n= int(input())\n",
    "pattern = compile('^[-+]?[0-9]*\\.[0-9]+$')\n",
    "for i in range(n):\n",
    "    print(bool(pattern.match(input())))"
   ]
  },
  {
   "cell_type": "code",
   "execution_count": 2,
   "id": "32c0eae4",
   "metadata": {},
   "outputs": [
    {
     "name": "stdout",
     "output_type": "stream",
     "text": [
      "100,000,000.000\n",
      "100\n",
      "000\n",
      "000\n",
      "000\n"
     ]
    }
   ],
   "source": [
    "#Ques 2- Re.split\n",
    "regex_pattern = r\"[,.]+\"\t# Do not delete 'r'.\n",
    "\n",
    "import re\n",
    "print(\"\\n\".join(re.split(regex_pattern, input())))"
   ]
  },
  {
   "cell_type": "code",
   "execution_count": 3,
   "id": "facda2c5",
   "metadata": {},
   "outputs": [
    {
     "name": "stdout",
     "output_type": "stream",
     "text": [
      "..97873278959768324976483\n",
      "-1\n"
     ]
    }
   ],
   "source": [
    "#Ques 3-\n",
    "import re\n",
    "m = re.search(r'([a-zA-Z0-9])\\1', input().strip())\n",
    "print(m.group(1) if m else -1)"
   ]
  },
  {
   "cell_type": "code",
   "execution_count": 4,
   "id": "69998d41",
   "metadata": {},
   "outputs": [
    {
     "name": "stdout",
     "output_type": "stream",
     "text": [
      "jhegftyioregtyuihdsvkihrgd\n",
      "io\n",
      "ui\n"
     ]
    }
   ],
   "source": [
    "#Ques 4- Re.findall and re.finditer\n",
    "import re\n",
    "v = \"aeiou\"\n",
    "c = \"qwrtypsdfghjklzxcvbnm\"\n",
    "m = re.findall(r\"(?<=[%s])([%s]{2,})[%s]\" % (c, v, c), input(), flags = re.I)\n",
    "print('\\n'.join(m or ['-1']))"
   ]
  },
  {
   "cell_type": "code",
   "execution_count": 5,
   "id": "82647102",
   "metadata": {},
   "outputs": [
    {
     "name": "stdout",
     "output_type": "stream",
     "text": [
      "aaadaa\n",
      "aa\n",
      "(0, 1)\n",
      "(1, 2)\n",
      "(4, 5)\n"
     ]
    }
   ],
   "source": [
    "#Ques 5- re.start() and re.end()\n",
    "import re\n",
    "s,k = input(),input()\n",
    "patter = re.compile(k)\n",
    "m=patter.search(s)\n",
    "\n",
    "if not m:\n",
    "        print((-1,-1))  \n",
    "while m:\n",
    "    print((m.start(),m.end()-1))\n",
    "    m=patter.search(s,m.start()+1)"
   ]
  },
  {
   "cell_type": "code",
   "execution_count": null,
   "id": "efbbe2ab",
   "metadata": {},
   "outputs": [],
   "source": [
    "#Ques 6- regex substitution\n",
    "import re\n",
    "\n",
    "for i in range(int(input())):\n",
    "    \n",
    "    t = re.sub(\"(?<=\\s)&&(?=\\s)\", \"and\", input())\n",
    "    print(re.sub(\"(?<=\\s)\\|\\|(?=\\s)\", \"or\", t))"
   ]
  },
  {
   "cell_type": "code",
   "execution_count": 1,
   "id": "332ac8d2",
   "metadata": {},
   "outputs": [
    {
     "name": "stdout",
     "output_type": "stream",
     "text": [
      "CDXXVII\n",
      "True\n"
     ]
    }
   ],
   "source": [
    "#Ques 7- validating roman numerals\n",
    "thousand = 'M{0,3}'\n",
    "hundred = '(C[MD]|D?C{0,3})'\n",
    "ten = '(X[CL]|L?X{0,3})'\n",
    "digit = '(I[VX]|V?I{0,3})'\n",
    "regex_pattern = r\"%s%s%s%s$\" % (thousand, hundred, ten, digit)# Do not delete 'r'.\n",
    "\n",
    "import re\n",
    "print(str(bool(re.match(regex_pattern, input()))))"
   ]
  },
  {
   "cell_type": "code",
   "execution_count": 2,
   "id": "707d0511",
   "metadata": {},
   "outputs": [
    {
     "name": "stdout",
     "output_type": "stream",
     "text": [
      "3\n",
      "753478378643\n",
      "NO\n",
      "864567526\n",
      "NO\n",
      "9653678523\n",
      "YES\n"
     ]
    }
   ],
   "source": [
    "#Ques 8- validating phone numbers\n",
    "import re\n",
    "for i in range(int(input())):\n",
    "    if re.match(r'[789]\\d{9}$',input()):   \n",
    "        print('YES')  \n",
    "    else:  \n",
    "        print('NO')\n"
   ]
  },
  {
   "cell_type": "code",
   "execution_count": 1,
   "id": "644e8746",
   "metadata": {},
   "outputs": [
    {
     "name": "stdout",
     "output_type": "stream",
     "text": [
      "2\n",
      "CHANDNI <kuamri@hellomail.com>\n",
      "CHANDNI <kuamri@hellomail.com>\n",
      "chandni <kuamri@jhel.com\n"
     ]
    }
   ],
   "source": [
    "#Ques 9- validating and parsing email address\n",
    "import re\n",
    "n = int(input())\n",
    "for i in range(n):\n",
    "    x, y = input().split(' ')\n",
    "    m = re.match(r'<[A-Za-z](\\w|-|\\.|_)+@[A-Za-z]+\\.[A-Za-z]{1,3}>', y)\n",
    "    if m:\n",
    "        print(x,y)\n"
   ]
  },
  {
   "cell_type": "code",
   "execution_count": null,
   "id": "86263a90",
   "metadata": {},
   "outputs": [],
   "source": [
    "#Ques 10-Hex color code\n",
    "import re\n",
    "for _ in range(int(input())):\n",
    "    matches = re.findall(r':?.(#[0-9a-fA-F]{6}|#[0-9a-fA-F]{3})', input())\n",
    "    if matches:\n",
    "        print(*matches, sep='\\n')"
   ]
  },
  {
   "cell_type": "code",
   "execution_count": null,
   "id": "4d459f6b",
   "metadata": {},
   "outputs": [],
   "source": [
    "#Ques 11-HTML parser part 1\n",
    "from html.parser import HTMLParser\n",
    "class MyHTMLParser(HTMLParser):\n",
    "    def handle_starttag(self, tag, attrs):\n",
    "        print ('Start :', tag)\n",
    "        for i in attrs:\n",
    "            print ('->', ele[0], '>', ele[1])\n",
    "    def handle_endtag(self, tag):\n",
    "        print ('End   :', tag)\n",
    "    def handle_startendtag(self, tag, attrs):\n",
    "        print ('Empty :', tag)\n",
    "        for ele in attrs:\n",
    "            print ('->', ele[0], '>', ele[1])\n",
    "parser = MyHTMLParser()\n",
    "for _ in range(int(input())):\n",
    "    parser.feed(input())"
   ]
  },
  {
   "cell_type": "code",
   "execution_count": null,
   "id": "6c8afd9e",
   "metadata": {},
   "outputs": [],
   "source": [
    "#Ques 12-Detect html tags attribute and attribute values\n",
    "from html.parser import HTMLParser\n",
    "class Pythonist2Parser(HTMLParser):\n",
    "    def handle_starttag(self, tag, attrs):\n",
    "        print(tag)\n",
    "        for attr, value in attrs:\n",
    "            print('->', attr, '>', value)\n",
    "parser = Pythonist2Parser()\n",
    "for _ in range(int(input())):\n",
    "    parser.feed(input())\n",
    "parser.close()"
   ]
  },
  {
   "cell_type": "code",
   "execution_count": 3,
   "id": "93a9089d",
   "metadata": {},
   "outputs": [
    {
     "name": "stdout",
     "output_type": "stream",
     "text": [
      "2\n",
      "B1CDEF2354\n",
      "Valid\n",
      "B9CDJU88623\n",
      "Invalid\n"
     ]
    }
   ],
   "source": [
    "#Ques 13- validating uid\n",
    "import re\n",
    "\n",
    "for _ in range(int(input())):\n",
    "    t= ''.join(sorted(input()))\n",
    "    try:\n",
    "        assert re.search(r'[A-Z]{2}', t)\n",
    "        assert re.search(r'\\d\\d\\d', t)\n",
    "        assert not re.search(r'[^a-zA-Z0-9]', t)\n",
    "        assert not re.search(r'(.)\\1', t)\n",
    "        assert len(t) == 10\n",
    "    except:\n",
    "        print('Invalid')\n",
    "    else:\n",
    "        print('Valid')"
   ]
  },
  {
   "cell_type": "code",
   "execution_count": 2,
   "id": "907fbc55",
   "metadata": {},
   "outputs": [
    {
     "name": "stdout",
     "output_type": "stream",
     "text": [
      "4\n",
      "29867893846\n",
      "Invalid\n",
      "9866-7578-7546-7754\n",
      "Invalid\n",
      "5123-4567-8912-3456\n",
      "Valid\n",
      "9786789790876342\n",
      "Invalid\n"
     ]
    }
   ],
   "source": [
    "#Ques 14- Validating credit card numbers\n",
    "import re\n",
    "t = re.compile(\n",
    "    r\"^\"\n",
    "    r\"(?!.*(\\d)(-?\\1){3})\"\n",
    "    r\"[456]\"\n",
    "    r\"\\d{3}\"\n",
    "    r\"(?:-?\\d{4}){3}\"\n",
    "    r\"$\")\n",
    "for i in range(int(input().strip())):\n",
    "    print(\"Valid\" if t.search(input().strip()) else \"Invalid\")"
   ]
  },
  {
   "cell_type": "code",
   "execution_count": 1,
   "id": "7ea8b903",
   "metadata": {},
   "outputs": [
    {
     "name": "stdout",
     "output_type": "stream",
     "text": [
      "110000\n",
      "False\n"
     ]
    }
   ],
   "source": [
    "#Ques 15- validating postal codes\n",
    "regex_integer_in_range = r\"^([1-9][0-9]{5})$\"\t# Do not delete 'r'.\n",
    "regex_alternating_repetitive_digit_pair = r\"(?=(\\d)\\d\\1)\"\t# Do not delete 'r'.\n",
    "\n",
    "\n",
    "import re\n",
    "P = input()\n",
    "\n",
    "print (bool(re.match(regex_integer_in_range, P)) \n",
    "and len(re.findall(regex_alternating_repetitive_digit_pair, P)) < 2)"
   ]
  },
  {
   "cell_type": "code",
   "execution_count": null,
   "id": "00133ea3",
   "metadata": {},
   "outputs": [],
   "source": []
  }
 ],
 "metadata": {
  "kernelspec": {
   "display_name": "Python 3 (ipykernel)",
   "language": "python",
   "name": "python3"
  },
  "language_info": {
   "codemirror_mode": {
    "name": "ipython",
    "version": 3
   },
   "file_extension": ".py",
   "mimetype": "text/x-python",
   "name": "python",
   "nbconvert_exporter": "python",
   "pygments_lexer": "ipython3",
   "version": "3.9.13"
  }
 },
 "nbformat": 4,
 "nbformat_minor": 5
}
