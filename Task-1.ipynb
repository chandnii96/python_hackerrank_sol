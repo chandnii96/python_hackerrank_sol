{
 "cells": [
  {
   "cell_type": "code",
   "execution_count": 1,
   "id": "750a71b7",
   "metadata": {},
   "outputs": [
    {
     "name": "stdout",
     "output_type": "stream",
     "text": [
      "Hello, World!\n"
     ]
    }
   ],
   "source": [
    "#ques 1\n",
    "print(\"Hello, World!\")\n"
   ]
  },
  {
   "cell_type": "code",
   "execution_count": null,
   "id": "9644add2",
   "metadata": {},
   "outputs": [],
   "source": [
    "#Ques 2-Python if-else\n",
    "\n",
    "import math\n",
    "import os\n",
    "import random\n",
    "import re\n",
    "import sys\n",
    "\n",
    "\n",
    "\n",
    "if __name__ == '__main__':\n",
    "    n = int(input().strip())\n",
    "if n%2!=0:\n",
    "    print(\"Weird\")\n",
    "elif 2<=n<=5 and n%2==0:\n",
    "    print(\"Not Weird\")\n",
    "elif n%2==0 and 6<=n<=20:\n",
    "    print(\"Weird\")\n",
    "else:\n",
    "    print(\"Not Weird\")\n"
   ]
  },
  {
   "cell_type": "code",
   "execution_count": null,
   "id": "6aa687f0",
   "metadata": {},
   "outputs": [],
   "source": [
    "#ques 3- Arithmetic operators\n",
    "if __name__ == '__main__':\n",
    "    a = int(input())\n",
    "    b = int(input())\n",
    "    print(a+b)\n",
    "    print(a-b)\n",
    "    print(a*b)\n"
   ]
  },
  {
   "cell_type": "code",
   "execution_count": null,
   "id": "f6d506cc",
   "metadata": {},
   "outputs": [],
   "source": [
    "#Ques 4- Python : Division\n",
    "\n",
    "if __name__ == '__main__':\n",
    "    a = int(input())\n",
    "    b = int(input())\n",
    "    print(a//b)\n",
    "    print(a/b)\n"
   ]
  },
  {
   "cell_type": "code",
   "execution_count": null,
   "id": "8417ef5c",
   "metadata": {},
   "outputs": [],
   "source": [
    "#Ques 5- Loops\n",
    "if __name__ == '__main__':\n",
    "    n = int(input())\n",
    "\n",
    "for i in range(n):\n",
    "    print(i*i)\n"
   ]
  },
  {
   "cell_type": "code",
   "execution_count": null,
   "id": "ebfa0577",
   "metadata": {},
   "outputs": [],
   "source": [
    "#Ques 6- Write a function\n",
    "def is_leap(year):\n",
    "    leap = False\n",
    "    \n",
    "    # Write your logic here\n",
    "    if( year % 400 ==0 and year %100==0):\n",
    "         leap=True\n",
    "    elif ( year %4==0 and year % 100!= 0) :\n",
    "         leap=True\n",
    "    else:\n",
    "        pass\n",
    "    \n",
    "    return leap\n",
    "\n",
    "year = int(input())\n",
    "print(is_leap(year))"
   ]
  },
  {
   "cell_type": "code",
   "execution_count": null,
   "id": "7c65da9b",
   "metadata": {},
   "outputs": [],
   "source": [
    "#Ques - 7:Print function\n",
    "if __name__ == '__main__':\n",
    "    n = int(input())\n",
    "    for i in range(1,n+1):\n",
    "        print(i, end=\"\")\n"
   ]
  }
 ],
 "metadata": {
  "kernelspec": {
   "display_name": "Python 3 (ipykernel)",
   "language": "python",
   "name": "python3"
  },
  "language_info": {
   "codemirror_mode": {
    "name": "ipython",
    "version": 3
   },
   "file_extension": ".py",
   "mimetype": "text/x-python",
   "name": "python",
   "nbconvert_exporter": "python",
   "pygments_lexer": "ipython3",
   "version": "3.9.13"
  }
 },
 "nbformat": 4,
 "nbformat_minor": 5
}
